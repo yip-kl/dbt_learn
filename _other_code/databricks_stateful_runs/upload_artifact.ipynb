{
 "cells": [
  {
   "cell_type": "code",
   "execution_count": null,
   "metadata": {},
   "outputs": [],
   "source": [
    "import os"
   ]
  },
  {
   "cell_type": "code",
   "execution_count": null,
   "metadata": {},
   "outputs": [],
   "source": [
    "# Obtain artifact paths\n",
    "DBT_ARTIFACT_STATE_PATH = os.environ.get('DBT_ARTIFACT_STATE_PATH')\n",
    "DBT_ARTIFACT_MOUNT_PATH = os.environ.get('DBT_ARTIFACT_MOUNT_PATH')"
   ]
  },
  {
   "cell_type": "code",
   "execution_count": null,
   "metadata": {},
   "outputs": [],
   "source": [
    "# Get the artifact path of the current run\n",
    "dbt_folder = ''\n",
    "for folder in os.listdir(\"/tmp\"):\n",
    "    if \"tmp-dbt-run-\" in folder:\n",
    "        dbt_folder = folder\n",
    "        break\n",
    "\n",
    "os.listdir(f\"/tmp/{dbt_folder}\")"
   ]
  },
  {
   "cell_type": "code",
   "execution_count": null,
   "metadata": {},
   "outputs": [],
   "source": [
    "# Clear mount path files\n",
    "dbutils.fs.rm(DBT_ARTIFACT_MOUNT_PATH, True)\n",
    "\n",
    "# Copy the artifact to the mount path\n",
    "to_be_copied = [\"logs\", \"target\"]\n",
    "for item in to_be_copied:\n",
    "    dbutils.fs.cp(f\"file:///tmp/{dbt_folder}/{item}\", f\"{DBT_ARTIFACT_MOUNT_PATH}/{item}\", True)"
   ]
  }
 ],
 "metadata": {
  "language_info": {
   "name": "python"
  },
  "orig_nbformat": 4
 },
 "nbformat": 4,
 "nbformat_minor": 2
}
