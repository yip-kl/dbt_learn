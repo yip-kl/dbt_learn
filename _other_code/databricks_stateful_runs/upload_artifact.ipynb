{
 "cells": [
  {
   "cell_type": "code",
   "execution_count": null,
   "metadata": {},
   "outputs": [],
   "source": [
    "import os\n",
    "import time"
   ]
  },
  {
   "cell_type": "code",
   "execution_count": null,
   "metadata": {},
   "outputs": [],
   "source": [
    "# Obtain artifact paths\n",
    "DBT_ARTIFACT_STATE_PATH = os.environ.get('DBT_ARTIFACT_STATE_PATH')\n",
    "DBT_ARTIFACT_MOUNT_PATH = os.environ.get('DBT_ARTIFACT_MOUNT_PATH')"
   ]
  },
  {
   "cell_type": "code",
   "execution_count": null,
   "metadata": {},
   "outputs": [],
   "source": [
    "# Get the artifact path of the current run\n",
    "dbt_folder = ''\n",
    "for folder in os.listdir(\"/tmp\"):\n",
    "    if \"tmp-dbt-run-\" in folder:\n",
    "        dbt_folder = folder\n",
    "        break\n",
    "\n",
    "os.listdir(f\"/tmp/{dbt_folder}\")"
   ]
  },
  {
   "cell_type": "code",
   "execution_count": null,
   "metadata": {},
   "outputs": [],
   "source": [
    "# rsync /target to mount\n",
    "dbutils.fs.rm(f\"{DBT_ARTIFACT_MOUNT_PATH}/target\", True)\n",
    "dbutils.fs.cp(f\"file:///tmp/{dbt_folder}/target\", f\"{DBT_ARTIFACT_MOUNT_PATH}/target\", True)\n",
    "\n",
    "# upload logs\n",
    "dbutils.fs.cp(f\"file:///tmp/{dbt_folder}/logs/dbt.log\", f\"{DBT_ARTIFACT_MOUNT_PATH}/dbt_{int(time.time())}.log\")"
   ]
  }
 ],
 "metadata": {
  "language_info": {
   "name": "python"
  },
  "orig_nbformat": 4
 },
 "nbformat": 4,
 "nbformat_minor": 2
}
