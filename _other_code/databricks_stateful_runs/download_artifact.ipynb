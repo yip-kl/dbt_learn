{
 "cells": [
  {
   "cell_type": "code",
   "execution_count": null,
   "metadata": {},
   "outputs": [],
   "source": [
    "import os"
   ]
  },
  {
   "cell_type": "code",
   "execution_count": null,
   "metadata": {},
   "outputs": [],
   "source": [
    "# Obtain artifact paths\n",
    "DBT_ARTIFACT_MOUNT_PATH = os.environ.get('DBT_ARTIFACT_MOUNT_PATH')\n",
    "DBT_ARTIFACT_LOCAL_PATH = os.environ.get('DBT_ARTIFACT_LOCAL_PATH')\n",
    "DBT_ARTIFACT_STATE_PATH = os.environ.get('DBT_ARTIFACT_STATE_PATH')\n",
    "\n",
    "# Copy dbt artifacts from ADLS to local\n",
    "dbutils.fs.cp(DBT_ARTIFACT_MOUNT_PATH, f\"file://{DBT_ARTIFACT_LOCAL_PATH}\",True)"
   ]
  },
  {
   "cell_type": "code",
   "execution_count": null,
   "metadata": {},
   "outputs": [],
   "source": [
    "%%bash\n",
    "# Check that the state artifacts are there\n",
    "cd $DBT_ARTIFACT_STATE_PATH\n",
    "ls"
   ]
  }
 ],
 "metadata": {
  "language_info": {
   "name": "python"
  },
  "orig_nbformat": 4
 },
 "nbformat": 4,
 "nbformat_minor": 2
}
